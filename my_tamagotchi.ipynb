{
  "nbformat": 4,
  "nbformat_minor": 0,
  "metadata": {
    "colab": {
      "name": "my_tamagotchi",
      "version": "0.3.2",
      "provenance": [],
      "collapsed_sections": [],
      "include_colab_link": true
    },
    "kernelspec": {
      "name": "python3",
      "display_name": "Python 3"
    }
  },
  "cells": [
    {
      "cell_type": "markdown",
      "metadata": {
        "id": "view-in-github",
        "colab_type": "text"
      },
      "source": [
        "<a href=\"https://colab.research.google.com/github/Hweeping/Python_my_tamagotchi/blob/master/my_tamagotchi.ipynb\" target=\"_parent\"><img src=\"https://colab.research.google.com/assets/colab-badge.svg\" alt=\"Open In Colab\"/></a>"
      ]
    },
    {
      "cell_type": "code",
      "metadata": {
        "id": "1jisr1gD5p8X",
        "colab_type": "code",
        "colab": {}
      },
      "source": [
        "import random \n",
        "\n",
        "class Tamagotchi:\n",
        "  name = None\n",
        "  age = None\n",
        "  life_span = None\n",
        "  list_of_functions = None\n",
        "  correct_response = None\n",
        "  \n",
        "  def __init__(self, name, age, life_span):\n",
        "    self.name = name\n",
        "    self.age = age\n",
        "    self.life_span = life_span\n",
        "    self.list_of_functions = [self.sleep, self.eat, self.play]\n",
        "    \n",
        "  def sleep(self):\n",
        "    print('I want to sleep...ZZZzzzzzz')\n",
        "    self.correct_response = 1\n",
        "  \n",
        "  def eat(self):\n",
        "    print(\"I am hungry\")\n",
        "    self.correct_response = 2  \n",
        "  \n",
        "  def play(self):\n",
        "    print(\"I am bored\")\n",
        "    self.correct_response = 3\n",
        "    \n",
        "  def receive_a_response(self, response):\n",
        "    #check that the response matches correct_response\n",
        "    if response == self.correct_response:\n",
        "      print(\"You are correct. I am a happy pet\")\n",
        "    else:\n",
        "      print(\"You are wrong. I am a sad pet\")\n",
        "  \n",
        "  def ask_the_human_for_something(self):\n",
        "    selected_function = self.list_of_functions[random.randint(0,2)]\n",
        "    selected_function()\n",
        "    print(\"Key in 1 - Send me to sleep, 2 - Send me to eat, 3 - Play with me\")\n",
        "\n",
        "class God:\n",
        "  def __init__(self):\n",
        "    print(\"I am God!\")\n",
        "    \n",
        "  def create_tamagotchi(self):\n",
        "    pet_name = input(\"Give me your pet name: \")\n",
        "    pet_age = int(input(\"Give me your pet age: \"))\n",
        "    pet_life_span = int(input(\"Give me your pet life span: \"))\n",
        "    print(pet_name, pet_age, pet_life_span)\n",
        "    #create the tamagotchi class using user input\n",
        "    return Tamagotchi(pet_name, pet_age, pet_life_span)\n",
        "  \n",
        "  def create_human(self):\n",
        "    human_name = input(\"What is your name?\")\n",
        "    return human(human_name)\n",
        "\n",
        "class human:\n",
        "  name = None\n",
        "  \n",
        "  def __init__(self, name):\n",
        "    print(\"hello, my name is \" + name)\n",
        "    self.name = name"
      ],
      "execution_count": 0,
      "outputs": []
    },
    {
      "cell_type": "code",
      "metadata": {
        "id": "a3tg_1IMGkeG",
        "colab_type": "code",
        "outputId": "47a5cdb0-3dc5-40f5-c6d9-8a32d7c01ef2",
        "colab": {
          "base_uri": "https://localhost:8080/",
          "height": 412
        }
      },
      "source": [
        "#Main()\n",
        "print(\"In the beginning, there was God\")\n",
        "god = God()\n",
        "\n",
        "print(\"God created human\")\n",
        "human = god.create_human()\n",
        "\n",
        "print(\"Then God saw that the human was lonely, so He create a pet for him\")\n",
        "pet = god.create_tamagotchi()\n",
        "\n",
        "print(\"And God said this pet is yours.  Make sure you take good care of it!\")\n",
        "\n",
        "while(pet.life_span > 0):\n",
        "  #get the pet to ask human for something\n",
        "  pet.ask_the_human_for_something()\n",
        "  \n",
        "  #get user to input a response\n",
        "  response = int(input(\"User response: \"))\n",
        "  \n",
        "  #get pet to say if response is correct\n",
        "  pet.receive_a_response(response)\n",
        "  \n",
        "  #drop pet life_span by 1\n",
        "  pet.life_span -= 1"
      ],
      "execution_count": 0,
      "outputs": [
        {
          "output_type": "stream",
          "text": [
            "In the beginning, there was God\n",
            "I am God!\n",
            "God created human\n",
            "What is your name?hp\n",
            "hello, my name is hp\n",
            "Then God saw that the human was lonely, so He create a pet for him\n",
            "Give me your pet name: ess\n",
            "Give me your pet age: 3\n",
            "Give me your pet life span: 3\n",
            "ess 3 3\n",
            "And God said this pet is yours.  Make sure you take good care of it!\n",
            "I am bored\n",
            "Key in 1 - Send me to sleep, 2 - Send me to eat, 3 - Play with me\n",
            "User response: 3\n",
            "You are correct. I am a happy pet\n",
            "I want to sleep...ZZZzzzzzz\n",
            "Key in 1 - Send me to sleep, 2 - Send me to eat, 3 - Play with me\n",
            "User response: 1\n",
            "You are correct. I am a happy pet\n",
            "I want to sleep...ZZZzzzzzz\n",
            "Key in 1 - Send me to sleep, 2 - Send me to eat, 3 - Play with me\n",
            "User response: 1\n",
            "You are correct. I am a happy pet\n"
          ],
          "name": "stdout"
        }
      ]
    }
  ]
}